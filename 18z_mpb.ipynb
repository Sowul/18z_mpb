{
 "cells": [
  {
   "cell_type": "markdown",
   "metadata": {},
   "source": [
    "# Wielkoskalowe metody pomiarowe w biologii molekularnej\n",
    "## Metody selekcji cech - 2. Selekcja genów lub białek o ekspresji różnicującej dwie grupy próbek przy użyciu metody Recursive Feature Elimination\n",
    "### Bartosz Sowul, Katarzyna Szmulewicz"
   ]
  },
  {
   "cell_type": "markdown",
   "metadata": {},
   "source": [
    "## test: instalacja potrzebnych modułów"
   ]
  },
  {
   "cell_type": "code",
   "execution_count": 1,
   "metadata": {},
   "outputs": [
    {
     "name": "stdout",
     "output_type": "stream",
     "text": [
      "Requirement already satisfied: matplotlib in /media/bs/data/projects/0_moje_portfolio/eiti/eiti/lib/python3.6/site-packages (2.0.2)\n",
      "Requirement already satisfied: numpy>=1.7.1 in /media/bs/data/projects/0_moje_portfolio/eiti/eiti/lib/python3.6/site-packages (from matplotlib) (1.13.3)\n",
      "Requirement already satisfied: pyparsing!=2.0.0,!=2.0.4,!=2.1.2,!=2.1.6,>=1.5.6 in /media/bs/data/projects/0_moje_portfolio/eiti/eiti/lib/python3.6/site-packages (from matplotlib) (2.3.0)\n",
      "Requirement already satisfied: cycler>=0.10 in /media/bs/data/projects/0_moje_portfolio/eiti/eiti/lib/python3.6/site-packages (from matplotlib) (0.10.0)\n",
      "Requirement already satisfied: six>=1.10 in /media/bs/data/projects/0_moje_portfolio/eiti/eiti/lib/python3.6/site-packages (from matplotlib) (1.11.0)\n",
      "Requirement already satisfied: python-dateutil in /media/bs/data/projects/0_moje_portfolio/eiti/eiti/lib/python3.6/site-packages (from matplotlib) (2.7.5)\n",
      "Requirement already satisfied: pytz in /media/bs/data/projects/0_moje_portfolio/eiti/eiti/lib/python3.6/site-packages (from matplotlib) (2018.9)\n",
      "Requirement already satisfied: pandas in /media/bs/data/projects/0_moje_portfolio/eiti/eiti/lib/python3.6/site-packages (0.20.3)\n",
      "Requirement already satisfied: pytz>=2011k in /media/bs/data/projects/0_moje_portfolio/eiti/eiti/lib/python3.6/site-packages (from pandas) (2018.9)\n",
      "Requirement already satisfied: python-dateutil>=2 in /media/bs/data/projects/0_moje_portfolio/eiti/eiti/lib/python3.6/site-packages (from pandas) (2.7.5)\n",
      "Requirement already satisfied: numpy>=1.7.0 in /media/bs/data/projects/0_moje_portfolio/eiti/eiti/lib/python3.6/site-packages (from pandas) (1.13.3)\n",
      "Requirement already satisfied: six>=1.5 in /media/bs/data/projects/0_moje_portfolio/eiti/eiti/lib/python3.6/site-packages (from python-dateutil>=2->pandas) (1.11.0)\n",
      "Requirement already satisfied: numpy in /media/bs/data/projects/0_moje_portfolio/eiti/eiti/lib/python3.6/site-packages (1.13.3)\n",
      "Requirement already satisfied: scikit_learn in /media/bs/data/projects/0_moje_portfolio/eiti/eiti/lib/python3.6/site-packages (0.19.1)\n"
     ]
    }
   ],
   "source": [
    "%matplotlib inline\n",
    "!pip install matplotlib\n",
    "!pip install pandas\n",
    "!pip install numpy\n",
    "!pip install scikit_learn"
   ]
  },
  {
   "cell_type": "markdown",
   "metadata": {},
   "source": [
    "## test: ładowanie potrzebnych modułów"
   ]
  },
  {
   "cell_type": "code",
   "execution_count": 2,
   "metadata": {},
   "outputs": [],
   "source": [
    "import pandas as pd"
   ]
  },
  {
   "cell_type": "markdown",
   "metadata": {},
   "source": [
    "## Funkcja pomocnicza przygotowująca dane\n",
    "### zbudowana na podstawie analizy wstępnej zbioru przeprowadzonej w analiza_wstepna.ipynb"
   ]
  },
  {
   "cell_type": "code",
   "execution_count": 3,
   "metadata": {},
   "outputs": [],
   "source": [
    "def prepare_data(dataset, verbose=False):\n",
    "    df = pd.read_csv(dataset, sep='\\t')\n",
    "    df = df.transpose()\n",
    "    \n",
    "    # print(f'Head:\\n {df.head()}')\n",
    "    \n",
    "    #print(df.iloc[1:].head()) \n",
    "    #print(df.iloc[1:].describe())\n",
    "    #print(df.iloc[1:][df.columns.difference(['class'])].head()) # same dane bez etykiety\n",
    "\n",
    "    df.rename(columns={0: 'class'}, inplace=True) # zmienia nazwę 1 kolumny na class\n",
    "    df1 = df.iloc[1:] # bez nazw kolumn\n",
    "    # print(f'df1 bez nazw kolumn:\\n {df1.head()}')\n",
    "\n",
    "    class_num  = int(df1['class'].describe()['unique'])\n",
    "    \n",
    "    if verbose:\n",
    "        print(df1['class'].describe())\n",
    "        print(class_num)\n",
    "    \n",
    "    while class_num > 2:\n",
    "        counts = df1['class'].value_counts()\n",
    "        \n",
    "        if verbose:\n",
    "            print(f'class_num: {class_num}')\n",
    "            print(f'counts:\\n{counts}')\n",
    "            print(f'counts.idx: {counts.idxmin()}')\n",
    "            print(f'counts[counts.idxmin()]:\\n{counts[counts.idxmin()]}')\n",
    "            print(f'counts[counts > min(counts)]:\\n{counts[counts > min(counts)]}')\n",
    "            print()\n",
    "        \n",
    "        df1 = df1[df1['class'] != counts.idxmin()]\n",
    "        class_num -= 1\n",
    "    else:\n",
    "        if verbose:\n",
    "            print(f'ZOSTAŁY 2 KLASY:')\n",
    "            print(f'class_num: {class_num}')\n",
    "            print('counts:\\n{}'.format(df1['class'].value_counts()))\n",
    "            print(df1.shape)\n",
    "            print(df1.isnull().values.any()) # sprawdza, czy dane są kompletne\n",
    "            \n",
    "        df1 = df1.apply(pd.to_numeric) # zmienia typy ze stringów na liczby\n",
    "        X = df1.iloc[1:][df1.columns.difference([0])]\n",
    "        y = df1.iloc[1:, 0]\n",
    "\n",
    "        return X, y"
   ]
  },
  {
   "cell_type": "markdown",
   "metadata": {},
   "source": [
    "## Ładowanie danych"
   ]
  },
  {
   "cell_type": "code",
   "execution_count": 4,
   "metadata": {},
   "outputs": [
    {
     "name": "stdout",
     "output_type": "stream",
     "text": [
      "Preparing datasets paths:\n",
      "\t-  Leukemia_preprocessed.txt -> ./data/Leukemia/Leukemia_preprocessed.txt\n",
      "\t-  Leukemia_500.txt -> ./data/Leukemia/Leukemia_500.txt\n",
      "\t-  LungCancer_preprocessed.txt -> ./data/LungCancer/LungCancer_preprocessed.txt\n",
      "\t-  LungCancer_500.txt -> ./data/LungCancer/LungCancer_500.txt\n",
      "\t-  Lymphoma_preprocessed.txt -> ./data/Lymphoma/Lymphoma_preprocessed.txt\n",
      "\t-  Lymphoma_500.txt -> ./data/Lymphoma/Lymphoma_500.txt\n",
      "Paths created.\n",
      "\n",
      "Preparing ./data/Leukemia/Leukemia_preprocessed.txt...\n",
      "Preparing ./data/Leukemia/Leukemia_500.txt...\n",
      "Done.\n",
      "\n",
      "Preparing ./data/LungCancer/LungCancer_preprocessed.txt...\n",
      "Preparing ./data/LungCancer/LungCancer_500.txt...\n",
      "Done.\n",
      "\n",
      "Preparing ./data/Lymphoma/Lymphoma_preprocessed.txt...\n",
      "Preparing ./data/Lymphoma/Lymphoma_500.txt...\n",
      "Done.\n",
      "\n",
      "All datasets ready.\n"
     ]
    }
   ],
   "source": [
    "DATA_PATH = './data'\n",
    "DIRS = ['Leukemia', 'LungCancer', 'Lymphoma']\n",
    "datasets_preprocessed = [d+'_preprocessed.txt' for d in DIRS]\n",
    "datasets_500 = [d+'_500.txt' for d in DIRS]\n",
    "datasets_preprocessed_paths = []\n",
    "datasets_500_paths = []\n",
    "\n",
    "print('Preparing datasets paths:')\n",
    "for dataset_preprocessed, dataset_500, directory in zip(datasets_preprocessed, datasets_500, DIRS):\n",
    "    datasets_preprocessed_paths.append(DATA_PATH + '/' + directory + '/' + dataset_preprocessed)\n",
    "    datasets_500_paths.append(DATA_PATH + '/' + directory + '/' + dataset_500)\n",
    "    print('\\t- ',dataset_preprocessed,'->',datasets_preprocessed_paths[-1])\n",
    "    print('\\t- ',dataset_500,'->',datasets_500_paths[-1])\n",
    "else:\n",
    "    print('Paths created.\\n')\n",
    "\n",
    "XX = []\n",
    "yy = []\n",
    "\n",
    "for dataset_preprocessed_path, dataset_500_path in zip(datasets_preprocessed_paths, datasets_500_paths):\n",
    "    print(f'Preparing {dataset_preprocessed_path}...')\n",
    "    X, y = prepare_data(dataset_preprocessed_path)\n",
    "    XX.append(X)\n",
    "    yy.append(y)\n",
    "    print(f'Preparing {dataset_500_path}...')\n",
    "    X, y = prepare_data(dataset_500_path)\n",
    "    XX.append(X)\n",
    "    yy.append(y)\n",
    "    print('Done.')\n",
    "    print()\n",
    "else:\n",
    "    print('All datasets ready.')"
   ]
  },
  {
   "cell_type": "markdown",
   "metadata": {},
   "source": [
    "## Implementacja funkcji Recursive Feature Elimination"
   ]
  },
  {
   "cell_type": "code",
   "execution_count": 73,
   "metadata": {},
   "outputs": [],
   "source": [
    "from math import floor\n",
    "from time import time\n",
    "\n",
    "import numpy as np\n",
    "from sklearn.model_selection import cross_val_score, StratifiedKFold\n",
    "from sklearn.svm import SVC\n",
    "\n",
    "ordinal = lambda n: \"%d%s\" % (n,\"tsnrhtdd\"[(floor(n/10)%10!=1)*(n%10<4)*n%10::4])\n",
    "\n",
    "def recursive_feature_elimination(X, y, verbose=0):\n",
    "    \n",
    "    n_features = X.shape[1]\n",
    "    features_left = X.shape[1]\n",
    "    features_eliminated = []\n",
    "    cv_results = []\n",
    "    \n",
    "    ranking_dict = {i: 1 for i in range(n_features)}\n",
    "    remaining = [True for i in range(n_features)]\n",
    "    features = np.arange(n_features)[remaining]\n",
    "    i = 0\n",
    "    \n",
    "    start = time()\n",
    "    \n",
    "    while features_left > 1:\n",
    "        # Remaining features\n",
    "        # array (0, n_features) with boolean masking\n",
    "        # https://docs.scipy.org/doc/numpy-1.15.0/user/basics.indexing.html#boolean-or-mask-index-arrays\n",
    "        features = np.arange(n_features)[remaining]\n",
    "        \n",
    "        # Create SVM model using a linear kernel\n",
    "        clf = SVC(kernel='linear', gamma='auto')\n",
    "        if verbose > 0:\n",
    "            print(f'Fitting classifier with {features_left} features.')\n",
    "\n",
    "        clf.fit(X[:, features], y)\n",
    "        # Get cv score on remaining features\n",
    "        cv_results.append(cross_val_score(clf, X[:, features], y,\n",
    "                            scoring='accuracy', cv=StratifiedKFold(2)).mean())\n",
    "\n",
    "        # Calc ranks\n",
    "        ranks = clf.coef_ ** 2\n",
    "        # Rank the remaining features\n",
    "        ranks = np.argsort(ranks.sum(axis=0))\n",
    "        # argsort sorts asc, sum over columns\n",
    "        # axis 0: the first running vertically downwards across rows,\n",
    "        # axis 1: the second running horizontally across columns.\n",
    "        # https://docs.scipy.org/doc/numpy-1.15.0/reference/generated/numpy.argsort.html\n",
    "        \n",
    "        features_eliminated.append(features[ranks][0])\n",
    "        ranking_dict[features[ranks][0]] = features_left\n",
    "\n",
    "        # Eliminate the worst feature\n",
    "        remaining[features[ranks][0]] = False\n",
    "        features_left -= 1\n",
    "        i += 1\n",
    "        \n",
    "        if verbose > 0:\n",
    "            print('features ranked from worst to best:\\n', ranks)\n",
    "            print(f'worst feature at {ordinal(i)} iter:\\n', features[ranks][0])\n",
    "            print('features eliminated so far:\\n', features_eliminated)\n",
    "            print('features left:\\n', np.arange(n_features)[remaining])\n",
    "            print('ranking:\\n', ranking_dict)\n",
    "            if verbose == 2:\n",
    "                input('Press Enter to continue....\\n')\n",
    "    else:\n",
    "        final_ranking = list(ranking_dict.items())\n",
    "        if sum(range(1, n_features+1)) == sum(rank for feature, rank in final_ranking):\n",
    "            print(f'\\nRFECV took {time() - start:.2f} seconds.')\n",
    "            print('\\nfinal ranking:\\n', final_ranking)\n",
    "            print('\\nranking:\\n', ranking_dict)\n",
    "            return final_ranking, ranking_dict, list(reversed(cv_results))\n",
    "        else:\n",
    "            print(\"Something's wrong...\")"
   ]
  },
  {
   "cell_type": "markdown",
   "metadata": {},
   "source": [
    "## test: recursive_feature_elimination na zbiorze digits"
   ]
  },
  {
   "cell_type": "code",
   "execution_count": 75,
   "metadata": {},
   "outputs": [
    {
     "name": "stdout",
     "output_type": "stream",
     "text": [
      "\n",
      "RFECV took 10.92 seconds.\n",
      "\n",
      "final ranking:\n",
      " [(0, 64), (1, 50), (2, 31), (3, 23), (4, 10), (5, 17), (6, 34), (7, 51), (8, 57), (9, 37), (10, 30), (11, 43), (12, 14), (13, 32), (14, 44), (15, 52), (16, 54), (17, 41), (18, 19), (19, 15), (20, 28), (21, 8), (22, 39), (23, 53), (24, 55), (25, 45), (26, 9), (27, 18), (28, 20), (29, 38), (30, 1), (31, 59), (32, 63), (33, 42), (34, 25), (35, 35), (36, 29), (37, 16), (38, 2), (39, 62), (40, 61), (41, 40), (42, 5), (43, 11), (44, 13), (45, 6), (46, 4), (47, 58), (48, 56), (49, 47), (50, 26), (51, 36), (52, 24), (53, 3), (54, 22), (55, 48), (56, 60), (57, 49), (58, 7), (59, 27), (60, 33), (61, 21), (62, 12), (63, 46)]\n",
      "\n",
      "ranking:\n",
      " {0: 64, 1: 50, 2: 31, 3: 23, 4: 10, 5: 17, 6: 34, 7: 51, 8: 57, 9: 37, 10: 30, 11: 43, 12: 14, 13: 32, 14: 44, 15: 52, 16: 54, 17: 41, 18: 19, 19: 15, 20: 28, 21: 8, 22: 39, 23: 53, 24: 55, 25: 45, 26: 9, 27: 18, 28: 20, 29: 38, 30: 1, 31: 59, 32: 63, 33: 42, 34: 25, 35: 35, 36: 29, 37: 16, 38: 2, 39: 62, 40: 61, 41: 40, 42: 5, 43: 11, 44: 13, 45: 6, 46: 4, 47: 58, 48: 56, 49: 47, 50: 26, 51: 36, 52: 24, 53: 3, 54: 22, 55: 48, 56: 60, 57: 49, 58: 7, 59: 27, 60: 33, 61: 21, 62: 12, 63: 46}\n",
      "\n",
      "cv_results (from using 1 feature to using all of them):\n",
      "[0.26376570675439992, 0.38342441929602034, 0.39286457507531314, 0.5286536784525131, 0.59822853079911209, 0.68222250574758203, 0.73737823549231019, 0.79140860353575393, 0.80034336847946719, 0.80864577552719208, 0.82588604427620105, 0.83531381302521002, 0.84979487077850013, 0.86867518233708574, 0.88147593943237679, 0.88263226870937062, 0.90597686598224203, 0.90819042829395902, 0.90985834192167436, 0.91153864257967343, 0.91376768867924529, 0.92265600225939437, 0.9276814204455367, 0.92989188599968298, 0.92989807951482484, 0.9326758710559695, 0.93823764765340101, 0.93879568336768671, 0.93656973402568577, 0.93992414182654194, 0.94382110155382914, 0.94270193336768671, 0.93825313144125566, 0.93991485155382914, 0.93825003468368484, 0.93935991259711438, 0.9371308664975424, 0.93824074441097194, 0.93712776973997147, 0.93601169831139996, 0.93601479506897101, 0.93767961193911531, 0.93768270869668624, 0.93824074441097194, 0.93879878012525764, 0.9393630093546852, 0.9393630093546852, 0.93880497364039961, 0.9393630093546852, 0.9393630093546852, 0.9393630093546852, 0.9393630093546852, 0.9393630093546852, 0.9393630093546852, 0.9393630093546852, 0.9393630093546852, 0.9393630093546852, 0.9393630093546852, 0.9393630093546852, 0.9393630093546852, 0.9393630093546852, 0.9393630093546852, 0.9393630093546852]\n",
      "\n",
      "ranking_sorted (from best to worst):\n",
      "[(30, 1), (38, 2), (53, 3), (46, 4), (42, 5), (45, 6), (58, 7), (21, 8), (26, 9), (4, 10), (43, 11), (62, 12), (44, 13), (12, 14), (19, 15), (37, 16), (5, 17), (27, 18), (18, 19), (28, 20), (61, 21), (54, 22), (3, 23), (52, 24), (34, 25), (50, 26), (59, 27), (20, 28), (36, 29), (10, 30), (2, 31), (13, 32), (60, 33), (6, 34), (35, 35), (51, 36), (9, 37), (29, 38), (22, 39), (41, 40), (17, 41), (33, 42), (11, 43), (14, 44), (25, 45), (63, 46), (49, 47), (55, 48), (57, 49), (1, 50), (7, 51), (15, 52), (23, 53), (16, 54), (24, 55), (48, 56), (8, 57), (47, 58), (31, 59), (56, 60), (40, 61), (39, 62), (32, 63), (0, 64)]\n"
     ]
    }
   ],
   "source": [
    "from operator import itemgetter\n",
    "\n",
    "from sklearn.datasets import load_digits\n",
    "\n",
    "digits = load_digits()\n",
    "X, y = digits.data, digits.target\n",
    "\n",
    "final_ranking, ranking_dict, cv_results = recursive_feature_elimination(X, y, verbose=0)\n",
    "\n",
    "# best is 30, worst is 0\n",
    "print()\n",
    "print(f'cv_results (from using 1 feature to using all of them):\\n{cv_results}')\n",
    "print()\n",
    "print(f'ranking_sorted (from best to worst):\\n{sorted(final_ranking, key=itemgetter(1))}')"
   ]
  },
  {
   "cell_type": "markdown",
   "metadata": {},
   "source": [
    "## Funkcja pomocnicza do robienia wykresów"
   ]
  },
  {
   "cell_type": "code",
   "execution_count": 151,
   "metadata": {},
   "outputs": [],
   "source": [
    "def plot(cv_results, cutoff=-1, figsize=[20, 10]):\n",
    "    plt.rcParams['figure.figsize'] = figsize\n",
    "    plt.figure()\n",
    "    plt.xlabel('Liczba wybranych cech')\n",
    "    plt.ylabel('Średnia wartość metryki accuracy dla 2-Fold CV')\n",
    "    if cutoff > 0:\n",
    "        cutoff = int(cutoff)\n",
    "        plt.plot(range(1, len(cv_results[:cutoff+1]) + 1), cv_results[:cutoff+1])\n",
    "        print(f'Accuracy using {cutoff} features is {cv_results[cutoff]}.')\n",
    "    else:\n",
    "        plt.plot(range(1, len(cv_results) + 1), cv_results)\n",
    "        index, value = max(enumerate(cv_results), key=itemgetter(1))\n",
    "        print(f'Best accuracy is {value} using {index+1} features.')\n",
    "    plt.show()"
   ]
  },
  {
   "cell_type": "markdown",
   "metadata": {},
   "source": [
    "## test: robienie wykresów do wyników rfe na zbiorze digits"
   ]
  },
  {
   "cell_type": "code",
   "execution_count": 143,
   "metadata": {},
   "outputs": [
    {
     "name": "stdout",
     "output_type": "stream",
     "text": [
      "Best accuracy is 0.9438211015538291 using 31 features.\n"
     ]
    },
    {
     "data": {
      "image/png": "[encoded data removed]",
      "text/plain": [
       "<matplotlib.figure.Figure at 0x7f63adbaf080>"
      ]
     },
     "metadata": {
      "needs_background": "light"
     },
     "output_type": "display_data"
    },
    {
     "name": "stdout",
     "output_type": "stream",
     "text": [
      "Accuracy using 25 features is 0.9326758710559695.\n"
     ]
    },
    {
     "data": {
      "image/png": "[encoded data removed]",
      "text/plain": [
       "<matplotlib.figure.Figure at 0x7f63a732add8>"
      ]
     },
     "metadata": {
      "needs_background": "light"
     },
     "output_type": "display_data"
    }
   ],
   "source": [
    "plot(cv_results)    \n",
    "plot(cv_results, cutoff=25)"
   ]
  },
  {
   "cell_type": "markdown",
   "metadata": {},
   "source": [
    "## Eksperymenty na wybranych zbiorach"
   ]
  },
  {
   "cell_type": "code",
   "execution_count": null,
   "metadata": {},
   "outputs": [],
   "source": []
  }
 ],
 "metadata": {
  "colab": {
   "collapsed_sections": [],
   "name": "colab-github-demo.ipynb",
   "provenance": [],
   "version": "0.3.2"
  },
  "kernelspec": {
   "display_name": "Python 3",
   "language": "python",
   "name": "python3"
  },
  "language_info": {
   "codemirror_mode": {
    "name": "ipython",
    "version": 3
   },
   "file_extension": ".py",
   "mimetype": "text/x-python",
   "name": "python",
   "nbconvert_exporter": "python",
   "pygments_lexer": "ipython3",
   "version": "3.6.7"
  }
 },
 "nbformat": 4,
 "nbformat_minor": 2
}
